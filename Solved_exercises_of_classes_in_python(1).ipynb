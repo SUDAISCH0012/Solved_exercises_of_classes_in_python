{
 "cells": [
  {
   "cell_type": "code",
   "execution_count": 52,
   "id": "ef0787a2-d82b-442d-bdcc-7685984e8809",
   "metadata": {},
   "outputs": [
    {
     "name": "stdout",
     "output_type": "stream",
     "text": [
      "Sudais is lived in kasur and 21 year old.\n"
     ]
    }
   ],
   "source": [
    "#q1\n",
    "class Person:\n",
    "    def __init__(self,name):\n",
    "        self.name=name\n",
    "    def info(self):\n",
    "        self.age= 21\n",
    "        self.city = \"kasur\"\n",
    "        print(f'{self.name} is lived in {self.city} and {self.age} year old.')\n",
    "        \n",
    "        \n",
    "a=Person(\"Sudais\")\n",
    "a.info()\n"
   ]
  },
  {
   "cell_type": "code",
   "execution_count": 3,
   "id": "d412666a-2041-4814-8d0a-bf2d13973bf9",
   "metadata": {},
   "outputs": [
    {
     "name": "stdout",
     "output_type": "stream",
     "text": [
      "Car name: Prius, Car make: japan Launch year: 2013\n"
     ]
    }
   ],
   "source": [
    "# q2\n",
    "class Car:\n",
    "    def __init__(self,make,modle,year):\n",
    "        self.make = make\n",
    "        self.model = modle\n",
    "        self.year = year \n",
    "    def car_info(self):\n",
    "        print(f\"Car name: {self.model}, Car make: {self.make} Launch year: {self.year}\")\n",
    "my_car_info = Car(\"japan\",\"Prius\",2013)\n",
    "my_car_info.car_info()"
   ]
  },
  {
   "cell_type": "code",
   "execution_count": 69,
   "id": "23d3bd1f-51b4-4e35-a251-03ebd4536d13",
   "metadata": {},
   "outputs": [
    {
     "name": "stdout",
     "output_type": "stream",
     "text": [
      "1256.0\n",
      "125.60000000000001\n"
     ]
    }
   ],
   "source": [
    "#q3\n",
    "class Circle:\n",
    "    def __init__(self,radius):\n",
    "        self.radius = radius\n",
    "    def circle_area(self):\n",
    "        area = (3.14* self.radius*self.radius)    \n",
    "        print(area)\n",
    "    def circumferance(self):\n",
    "        circum = (2*self.radius*3.14)\n",
    "        print(circum)\n",
    "    \n",
    "a = Circle(20)\n",
    "a.circle_area()\n",
    "a.circumferance()"
   ]
  },
  {
   "cell_type": "code",
   "execution_count": 75,
   "id": "e04da940-3f82-458c-bf46-a390d815ce7f",
   "metadata": {},
   "outputs": [
    {
     "name": "stdout",
     "output_type": "stream",
     "text": [
      "The Area is  260\n",
      "The perimeter is 66\n"
     ]
    }
   ],
   "source": [
    "# q4\n",
    "class rectangle:\n",
    "    def __init__(self,length,width):\n",
    "        self.length=length\n",
    "        self.width = width\n",
    "    def calculate(self):\n",
    "        area = self.length*self.width\n",
    "        print(\"The Area is \",area)\n",
    "        perimeter =2*(self.length+self.width)\n",
    "        print(\"The perimeter is\",perimeter)\n",
    "a = rectangle(20 ,13)\n",
    "a.calculate()"
   ]
  },
  {
   "cell_type": "code",
   "execution_count": 86,
   "id": "14c3e41c-1a4c-4d4f-a2e6-79ce65efbfa7",
   "metadata": {},
   "outputs": [
    {
     "name": "stdin",
     "output_type": "stream",
     "text": [
      "ISL : 30\n",
      "MANGE : 40\n",
      "ACC : 50\n",
      "MATH : 13\n",
      "ICT  : 50\n"
     ]
    },
    {
     "name": "stdout",
     "output_type": "stream",
     "text": [
      "The avrage marks of Sudais is  36.6\n"
     ]
    }
   ],
   "source": [
    "# q5\n",
    "class avrage:\n",
    "    def __init__(self,student_name,rollnumber):\n",
    "        self.name = student_name\n",
    "        self.rollnumber = rollnumber\n",
    "    def marks(self):\n",
    "        avrage = sum/5\n",
    "        print(f'The avrage marks of {self.name} is ',avrage)\n",
    "        \n",
    "a = avrage(\"Sudais\",84)\n",
    "while True:\n",
    "    user0 =int(input(\"ISL :\"))\n",
    "    user1 =int(input(\"MANGE :\"))\n",
    "    user2 =int(input(\"ACC :\"))\n",
    "    user3 =int(input(\"MATH :\"))\n",
    "    user4 =int(input(\"ICT  :\"))\n",
    "    break\n",
    "sum = user0+user1+user2+user3+user4\n",
    "a.marks()\n"
   ]
  },
  {
   "cell_type": "code",
   "execution_count": 5,
   "id": "0224cb74-99eb-4af0-b78e-da62828fef3d",
   "metadata": {},
   "outputs": [
    {
     "name": "stdout",
     "output_type": "stream",
     "text": [
      "Title of the book is Alchemist written by Paulo Coelho amd published in 1988\n"
     ]
    }
   ],
   "source": [
    "# q6\n",
    "class Book:\n",
    "    def __init__(self,title,author,publication_year):\n",
    "        self.title = title\n",
    "        self.author = author\n",
    "        self.publication_year = publication_year\n",
    "    def specifications(self):\n",
    "        print(f\"Title of the book is {self.title} written by {self.author} amd published in {self.publication_year}\")\n",
    "my_book_info = Book(\"Alchemist\",\"Paulo Coelho\",1988)\n",
    "my_book_info.specifications()"
   ]
  },
  {
   "cell_type": "code",
   "execution_count": 6,
   "id": "316d2355-66ec-4623-b95f-2fb75d9d1e34",
   "metadata": {},
   "outputs": [
    {
     "name": "stdout",
     "output_type": "stream",
     "text": [
      "Employee name = sudais Employee Salary = 0 Employee Designation = CEO\n"
     ]
    }
   ],
   "source": [
    "# q7\n",
    "class Employee:\n",
    "    def __init__(self,name,salary,designation):\n",
    "        self.name = name\n",
    "        self.salary = salary\n",
    "        self.designation = designation\n",
    "    def employee_info(self):\n",
    "        print(f\"Employee name = {self.name} Employee Salary = {self.salary} Employee Designation = {self.designation}\")\n",
    "my_employee_info = Employee(\"sudais\",00000,\"CEO\")\n",
    "my_employee_info.employee_info()"
   ]
  },
  {
   "cell_type": "code",
   "execution_count": 5,
   "id": "f7079cbe-7d60-422a-bc90-d9c6d482d629",
   "metadata": {},
   "outputs": [
    {
     "name": "stdin",
     "output_type": "stream",
     "text": [
      "Balnace 130\n"
     ]
    },
    {
     "name": "stdout",
     "output_type": "stream",
     "text": [
      "\n",
      "--- Banking application --- \n",
      "1. TO DEPOSIT MONEY\n",
      "2. TO WITHDRAW MONEY\n",
      "3. TO EXIT\n"
     ]
    },
    {
     "name": "stdin",
     "output_type": "stream",
     "text": [
      "Enter your choice (1, 2, or 3):  2\n",
      "Enter amount to withdraw:  149\n"
     ]
    },
    {
     "name": "stdout",
     "output_type": "stream",
     "text": [
      "Insufficient balance.\n",
      "\n",
      "--- Banking application --- \n",
      "1. TO DEPOSIT MONEY\n",
      "2. TO WITHDRAW MONEY\n",
      "3. TO EXIT\n"
     ]
    },
    {
     "name": "stdin",
     "output_type": "stream",
     "text": [
      "Enter your choice (1, 2, or 3):  130\n"
     ]
    },
    {
     "name": "stdout",
     "output_type": "stream",
     "text": [
      "Invalid choice. Please try again.\n",
      "\n",
      "--- Banking application --- \n",
      "1. TO DEPOSIT MONEY\n",
      "2. TO WITHDRAW MONEY\n",
      "3. TO EXIT\n"
     ]
    },
    {
     "name": "stdin",
     "output_type": "stream",
     "text": [
      "Enter your choice (1, 2, or 3):  129\n"
     ]
    },
    {
     "name": "stdout",
     "output_type": "stream",
     "text": [
      "Invalid choice. Please try again.\n",
      "\n",
      "--- Banking application --- \n",
      "1. TO DEPOSIT MONEY\n",
      "2. TO WITHDRAW MONEY\n",
      "3. TO EXIT\n"
     ]
    },
    {
     "name": "stdin",
     "output_type": "stream",
     "text": [
      "Enter your choice (1, 2, or 3):  2\n",
      "Enter amount to withdraw:  130\n"
     ]
    },
    {
     "name": "stdout",
     "output_type": "stream",
     "text": [
      "Withdrew 130. New balance: 0\n",
      "\n",
      "--- Banking application --- \n",
      "1. TO DEPOSIT MONEY\n",
      "2. TO WITHDRAW MONEY\n",
      "3. TO EXIT\n"
     ]
    },
    {
     "name": "stdin",
     "output_type": "stream",
     "text": [
      "Enter your choice (1, 2, or 3):  3\n"
     ]
    },
    {
     "name": "stdout",
     "output_type": "stream",
     "text": [
      "Exiting the application.\n"
     ]
    }
   ],
   "source": [
    "# Q8\n",
    "class BankAccount:\n",
    "    def __init__(self, balance):\n",
    "        self.__balance = balance  # Private attribute\n",
    "\n",
    "    def deposit(self, amount):\n",
    "        if amount > 0:\n",
    "            self.__balance += amount\n",
    "            print(f\"Deposited {amount}. New balance: {self.__balance}\")\n",
    "        else:\n",
    "            print(\"Deposit amount must be positive.\")\n",
    "\n",
    "    def withdraw(self, amount):\n",
    "        if amount > 0:\n",
    "            if amount <= self.__balance:\n",
    "                self.__balance -= amount\n",
    "                print(f\"Withdrew {amount}. New balance: {self.__balance}\")\n",
    "            else:\n",
    "                print(\"Insufficient balance.\")\n",
    "        else:\n",
    "            print(\"Withdrawal amount must be positive.\")\n",
    "iuser = int(input(\"Balnace\"))\n",
    "a = BankAccount(iuser)\n",
    "while True:\n",
    "    print(\"\\n--- Banking application --- \")\n",
    "    print(\"1. TO DEPOSIT MONEY\")\n",
    "    print(\"2. TO WITHDRAW MONEY\")\n",
    "    print(\"3. TO EXIT\")\n",
    "    choice = input(\"Enter your choice (1, 2, or 3): \")\n",
    "\n",
    "    if choice == '1':\n",
    "        user = int(input(\"Enter amount to deposit: \"))\n",
    "        a.deposit(user)\n",
    "    elif choice == '2':\n",
    "        user1 = int(input(\"Enter amount to withdraw: \"))\n",
    "        a.withdraw(user1)\n",
    "    elif choice == '3':\n",
    "        print(\"Exiting the application.\")\n",
    "        break\n",
    "    else:\n",
    "        print(\"Invalid choice. Please try again.\")"
   ]
  },
  {
   "cell_type": "code",
   "execution_count": null,
   "id": "78cc9da2-e518-4b1e-954a-b2a89a86cfa3",
   "metadata": {},
   "outputs": [
    {
     "name": "stdout",
     "output_type": "stream",
     "text": [
      "1. find circle area\n",
      "2. find triangle area\n",
      "3. find rectangle area\n",
      "4. exit\n"
     ]
    },
    {
     "name": "stdin",
     "output_type": "stream",
     "text": [
      "enter your choice (1-4) 123\n"
     ]
    },
    {
     "name": "stdout",
     "output_type": "stream",
     "text": [
      "1. find circle area\n",
      "2. find triangle area\n",
      "3. find rectangle area\n",
      "4. exit\n"
     ]
    },
    {
     "name": "stdin",
     "output_type": "stream",
     "text": [
      "enter your choice (1-4) 12\n"
     ]
    },
    {
     "name": "stdout",
     "output_type": "stream",
     "text": [
      "1. find circle area\n",
      "2. find triangle area\n",
      "3. find rectangle area\n",
      "4. exit\n"
     ]
    },
    {
     "name": "stdin",
     "output_type": "stream",
     "text": [
      "enter your choice (1-4) 23\n"
     ]
    },
    {
     "name": "stdout",
     "output_type": "stream",
     "text": [
      "1. find circle area\n",
      "2. find triangle area\n",
      "3. find rectangle area\n",
      "4. exit\n"
     ]
    },
    {
     "name": "stdin",
     "output_type": "stream",
     "text": [
      "enter your choice (1-4) 2\n",
      "Base 21\n",
      "Height 233\n"
     ]
    },
    {
     "name": "stdout",
     "output_type": "stream",
     "text": [
      "2446.5\n",
      "1. find circle area\n",
      "2. find triangle area\n",
      "3. find rectangle area\n",
      "4. exit\n"
     ]
    }
   ],
   "source": [
    "# Q9\n",
    "class shape:\n",
    "    def __init__(self):\n",
    "        raise NotImplementedError(\"subclasses must iplement this method\")\n",
    "class circle(shape):\n",
    "    def __init__(self,radius):\n",
    "        self.radius =radius\n",
    "    def cir_area(self):\n",
    "        area = (3.14*self.radius*self.radius)\n",
    "        print(area)\n",
    "class triangle(shape):\n",
    "    def __init__(self,base,height):\n",
    "        self.base = base \n",
    "        self.height = height\n",
    "    def tri_area(self):\n",
    "        area = 0.5*(self.base*self.height)\n",
    "        print(area)\n",
    "class rectangle(shape):\n",
    "    def __init__(self,width,length):\n",
    "        self.width = width\n",
    "        self.lenght = length\n",
    "    def rec_area(self):\n",
    "        area = self.lenght*self.width\n",
    "        print(area)\n",
    "while True:\n",
    "    print(\"1. find circle area\")\n",
    "    print(\"2. find triangle area\")\n",
    "    print(\"3. find rectangle area\")\n",
    "    print(\"4. exit\")\n",
    "    choice = input(\"enter your choice (1-4)\")\n",
    "\n",
    "    if choice == '1':\n",
    "        user = float(input(\"enter radius\"))\n",
    "        a = circle(user)\n",
    "        a.cir_area()\n",
    "        \n",
    "    elif choice == '2':\n",
    "        user = float(input(\"Base\"))\n",
    "        user1 = float(input(\"Height\"))\n",
    "        a = triangle(user ,user1)\n",
    "        a.tri_area()\n",
    "    elif choice == '3':\n",
    "        user = float(input(\"width\"))\n",
    "        user1 = float(input(\"length\"))\n",
    "        a = rectangle(user ,user1)\n",
    "        a.rec_area()\n",
    "    else:\n",
    "        if choice > '4':\n",
    "            print (\"enter valid choice\")\n",
    "        else:\n",
    "            continue\n",
    "        if choice == '4':\n",
    "            break\n",
    "    "
   ]
  },
  {
   "cell_type": "code",
   "execution_count": null,
   "id": "f90b5f9a-fc89-49d6-9eed-ea579ee0b8e4",
   "metadata": {},
   "outputs": [],
   "source": [
    "# Sir q 10 bi q9 ka jaisa hai lakin mane nahi kya."
   ]
  }
 ],
 "metadata": {
  "kernelspec": {
   "display_name": "Python 3 (ipykernel)",
   "language": "python",
   "name": "python3"
  },
  "language_info": {
   "codemirror_mode": {
    "name": "ipython",
    "version": 3
   },
   "file_extension": ".py",
   "mimetype": "text/x-python",
   "name": "python",
   "nbconvert_exporter": "python",
   "pygments_lexer": "ipython3",
   "version": "3.12.7"
  }
 },
 "nbformat": 4,
 "nbformat_minor": 5
}
